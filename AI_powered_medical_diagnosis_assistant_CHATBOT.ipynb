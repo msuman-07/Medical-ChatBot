{
  "nbformat": 4,
  "nbformat_minor": 0,
  "metadata": {
    "colab": {
      "provenance": [],
      "authorship_tag": "ABX9TyOdW9uwuYW2SvAltZH8vZNq",
      "include_colab_link": true
    },
    "kernelspec": {
      "name": "python3",
      "display_name": "Python 3"
    },
    "language_info": {
      "name": "python"
    }
  },
  "cells": [
    {
      "cell_type": "markdown",
      "metadata": {
        "id": "view-in-github",
        "colab_type": "text"
      },
      "source": [
        "<a href=\"https://colab.research.google.com/github/msuman-07/Medical-ChatBot/blob/main/AI_powered_medical_diagnosis_assistant_CHATBOT.ipynb\" target=\"_parent\"><img src=\"https://colab.research.google.com/assets/colab-badge.svg\" alt=\"Open In Colab\"/></a>"
      ]
    },
    {
      "cell_type": "markdown",
      "source": [
        "***Step 1: Set up environment***\n",
        "\n",
        "To start a chatbot, you will need to ensure spaCy is installed and install a language model (in this case, the core spaCy English language model). You have decided to set this up as a Jupyter Notebook for the moment.\n",
        "\n",
        "First, verify installation of spaCy by running the cell labeled Step 1a:\n",
        "\n",
        "Step 1"
      ],
      "metadata": {
        "id": "Vfsia_jc5Gnh"
      }
    },
    {
      "cell_type": "code",
      "execution_count": 28,
      "metadata": {
        "colab": {
          "base_uri": "https://localhost:8080/"
        },
        "id": "7Zl2a-P6vdsn",
        "outputId": "5fc69957-b755-4655-f45e-200ca93f2d63"
      },
      "outputs": [
        {
          "output_type": "stream",
          "name": "stdout",
          "text": [
            "Requirement already satisfied: spaCy in /usr/local/lib/python3.11/dist-packages (3.8.5)\n",
            "Requirement already satisfied: spacy-legacy<3.1.0,>=3.0.11 in /usr/local/lib/python3.11/dist-packages (from spaCy) (3.0.12)\n",
            "Requirement already satisfied: spacy-loggers<2.0.0,>=1.0.0 in /usr/local/lib/python3.11/dist-packages (from spaCy) (1.0.5)\n",
            "Requirement already satisfied: murmurhash<1.1.0,>=0.28.0 in /usr/local/lib/python3.11/dist-packages (from spaCy) (1.0.12)\n",
            "Requirement already satisfied: cymem<2.1.0,>=2.0.2 in /usr/local/lib/python3.11/dist-packages (from spaCy) (2.0.11)\n",
            "Requirement already satisfied: preshed<3.1.0,>=3.0.2 in /usr/local/lib/python3.11/dist-packages (from spaCy) (3.0.9)\n",
            "Requirement already satisfied: thinc<8.4.0,>=8.3.4 in /usr/local/lib/python3.11/dist-packages (from spaCy) (8.3.4)\n",
            "Requirement already satisfied: wasabi<1.2.0,>=0.9.1 in /usr/local/lib/python3.11/dist-packages (from spaCy) (1.1.3)\n",
            "Requirement already satisfied: srsly<3.0.0,>=2.4.3 in /usr/local/lib/python3.11/dist-packages (from spaCy) (2.5.1)\n",
            "Requirement already satisfied: catalogue<2.1.0,>=2.0.6 in /usr/local/lib/python3.11/dist-packages (from spaCy) (2.0.10)\n",
            "Requirement already satisfied: weasel<0.5.0,>=0.1.0 in /usr/local/lib/python3.11/dist-packages (from spaCy) (0.4.1)\n",
            "Requirement already satisfied: typer<1.0.0,>=0.3.0 in /usr/local/lib/python3.11/dist-packages (from spaCy) (0.15.2)\n",
            "Requirement already satisfied: tqdm<5.0.0,>=4.38.0 in /usr/local/lib/python3.11/dist-packages (from spaCy) (4.67.1)\n",
            "Requirement already satisfied: numpy>=1.19.0 in /usr/local/lib/python3.11/dist-packages (from spaCy) (2.0.2)\n",
            "Requirement already satisfied: requests<3.0.0,>=2.13.0 in /usr/local/lib/python3.11/dist-packages (from spaCy) (2.32.3)\n",
            "Requirement already satisfied: pydantic!=1.8,!=1.8.1,<3.0.0,>=1.7.4 in /usr/local/lib/python3.11/dist-packages (from spaCy) (2.11.1)\n",
            "Requirement already satisfied: jinja2 in /usr/local/lib/python3.11/dist-packages (from spaCy) (3.1.6)\n",
            "Requirement already satisfied: setuptools in /usr/local/lib/python3.11/dist-packages (from spaCy) (75.2.0)\n",
            "Requirement already satisfied: packaging>=20.0 in /usr/local/lib/python3.11/dist-packages (from spaCy) (24.2)\n",
            "Requirement already satisfied: langcodes<4.0.0,>=3.2.0 in /usr/local/lib/python3.11/dist-packages (from spaCy) (3.5.0)\n",
            "Requirement already satisfied: language-data>=1.2 in /usr/local/lib/python3.11/dist-packages (from langcodes<4.0.0,>=3.2.0->spaCy) (1.3.0)\n",
            "Requirement already satisfied: annotated-types>=0.6.0 in /usr/local/lib/python3.11/dist-packages (from pydantic!=1.8,!=1.8.1,<3.0.0,>=1.7.4->spaCy) (0.7.0)\n",
            "Requirement already satisfied: pydantic-core==2.33.0 in /usr/local/lib/python3.11/dist-packages (from pydantic!=1.8,!=1.8.1,<3.0.0,>=1.7.4->spaCy) (2.33.0)\n",
            "Requirement already satisfied: typing-extensions>=4.12.2 in /usr/local/lib/python3.11/dist-packages (from pydantic!=1.8,!=1.8.1,<3.0.0,>=1.7.4->spaCy) (4.13.0)\n",
            "Requirement already satisfied: typing-inspection>=0.4.0 in /usr/local/lib/python3.11/dist-packages (from pydantic!=1.8,!=1.8.1,<3.0.0,>=1.7.4->spaCy) (0.4.0)\n",
            "Requirement already satisfied: charset-normalizer<4,>=2 in /usr/local/lib/python3.11/dist-packages (from requests<3.0.0,>=2.13.0->spaCy) (3.4.1)\n",
            "Requirement already satisfied: idna<4,>=2.5 in /usr/local/lib/python3.11/dist-packages (from requests<3.0.0,>=2.13.0->spaCy) (3.10)\n",
            "Requirement already satisfied: urllib3<3,>=1.21.1 in /usr/local/lib/python3.11/dist-packages (from requests<3.0.0,>=2.13.0->spaCy) (2.3.0)\n",
            "Requirement already satisfied: certifi>=2017.4.17 in /usr/local/lib/python3.11/dist-packages (from requests<3.0.0,>=2.13.0->spaCy) (2025.1.31)\n",
            "Requirement already satisfied: blis<1.3.0,>=1.2.0 in /usr/local/lib/python3.11/dist-packages (from thinc<8.4.0,>=8.3.4->spaCy) (1.2.1)\n",
            "Requirement already satisfied: confection<1.0.0,>=0.0.1 in /usr/local/lib/python3.11/dist-packages (from thinc<8.4.0,>=8.3.4->spaCy) (0.1.5)\n",
            "Requirement already satisfied: click>=8.0.0 in /usr/local/lib/python3.11/dist-packages (from typer<1.0.0,>=0.3.0->spaCy) (8.1.8)\n",
            "Requirement already satisfied: shellingham>=1.3.0 in /usr/local/lib/python3.11/dist-packages (from typer<1.0.0,>=0.3.0->spaCy) (1.5.4)\n",
            "Requirement already satisfied: rich>=10.11.0 in /usr/local/lib/python3.11/dist-packages (from typer<1.0.0,>=0.3.0->spaCy) (13.9.4)\n",
            "Requirement already satisfied: cloudpathlib<1.0.0,>=0.7.0 in /usr/local/lib/python3.11/dist-packages (from weasel<0.5.0,>=0.1.0->spaCy) (0.21.0)\n",
            "Requirement already satisfied: smart-open<8.0.0,>=5.2.1 in /usr/local/lib/python3.11/dist-packages (from weasel<0.5.0,>=0.1.0->spaCy) (7.1.0)\n",
            "Requirement already satisfied: MarkupSafe>=2.0 in /usr/local/lib/python3.11/dist-packages (from jinja2->spaCy) (3.0.2)\n",
            "Requirement already satisfied: marisa-trie>=1.1.0 in /usr/local/lib/python3.11/dist-packages (from language-data>=1.2->langcodes<4.0.0,>=3.2.0->spaCy) (1.2.1)\n",
            "Requirement already satisfied: markdown-it-py>=2.2.0 in /usr/local/lib/python3.11/dist-packages (from rich>=10.11.0->typer<1.0.0,>=0.3.0->spaCy) (3.0.0)\n",
            "Requirement already satisfied: pygments<3.0.0,>=2.13.0 in /usr/local/lib/python3.11/dist-packages (from rich>=10.11.0->typer<1.0.0,>=0.3.0->spaCy) (2.18.0)\n",
            "Requirement already satisfied: wrapt in /usr/local/lib/python3.11/dist-packages (from smart-open<8.0.0,>=5.2.1->weasel<0.5.0,>=0.1.0->spaCy) (1.17.2)\n",
            "Requirement already satisfied: mdurl~=0.1 in /usr/local/lib/python3.11/dist-packages (from markdown-it-py>=2.2.0->rich>=10.11.0->typer<1.0.0,>=0.3.0->spaCy) (0.1.2)\n"
          ]
        }
      ],
      "source": [
        "pip install spaCy"
      ]
    },
    {
      "cell_type": "markdown",
      "source": [
        "Once you run this cell, you may be prompted to reload the notebook. This will only need to be done one time on the machine.\n",
        "\n",
        "Once the installation is complete/verified, install the English language model. Inside of the notebook, the process to install spaCy's languages is different from doing it from the command line."
      ],
      "metadata": {
        "id": "9ZJhztg25VWJ"
      }
    },
    {
      "cell_type": "markdown",
      "source": [
        "**Step 1b: Install and load core English spaCy model**"
      ],
      "metadata": {
        "id": "UTT_yrcG5aSt"
      }
    },
    {
      "cell_type": "code",
      "source": [
        "import spacy\n",
        "\n",
        "spacy.cli.download('en_core_web_sm')"
      ],
      "metadata": {
        "colab": {
          "base_uri": "https://localhost:8080/"
        },
        "id": "vVP95U1hviAV",
        "outputId": "ab9d3387-f7bf-4e42-dc39-f782e21626c0"
      },
      "execution_count": 17,
      "outputs": [
        {
          "output_type": "stream",
          "name": "stdout",
          "text": [
            "\u001b[38;5;2m✔ Download and installation successful\u001b[0m\n",
            "You can now load the package via spacy.load('en_core_web_sm')\n",
            "\u001b[38;5;3m⚠ Restart to reload dependencies\u001b[0m\n",
            "If you are in a Jupyter or Colab notebook, you may need to restart Python in\n",
            "order to load all the package's dependencies. You can do this by selecting the\n",
            "'Restart kernel' or 'Restart runtime' option.\n"
          ]
        }
      ]
    },
    {
      "cell_type": "markdown",
      "source": [
        "Once you run this cell, you may be prompted to reload the notebook. This will only need to be done one time on the machine."
      ],
      "metadata": {
        "id": "Mvx8EoPx5irc"
      }
    },
    {
      "cell_type": "markdown",
      "source": [
        "Step 2: Load the medical knowledge base\n",
        "You'll be provided with a medical knowledge base in a JSON file named medical_data.json.\n",
        "This file contains information about various symptoms, potential medical conditions, and general recommendations.\n",
        "Your chatbot will use this knowledge base to understand user input and provide helpful responses.\n",
        "\n",
        "Instructions:\n",
        "\n",
        "Examine the structure: Carefully review the structure of the medical_data.json file. Notice how the data is organized into dictionaries and lists. Pay attention to the keys and values used to represent symptoms, conditions, and recommendations.\n",
        "Understand the content: Familiarize yourself with the symptoms, conditions, and recommendations included in the knowledge base. This will help you understand the scope of your chatbot's potential diagnoses and advice.\n",
        "Consider limitations: Think about the limitations of this knowledge base. What types of medical conditions or scenarios might not be covered? How can your chatbot handle situations where the user's symptoms don't have a clear match in the data?\n",
        "Run the cell labeled Step 2.1 to create the knowledge base.\n",
        "\n",
        "Step 2.1: Populate JSON knowledge base"
      ],
      "metadata": {
        "id": "fgxUq9aP5mB3"
      }
    },
    {
      "cell_type": "code",
      "source": [
        "import json\n",
        "\n",
        "def generate_json_file(data, filename):\n",
        "    try:\n",
        "        with open(filename, 'w') as f:\n",
        "            json.dump(data, f, indent=4)  # indent=4 for pretty printing (optional)\n",
        "        print(f\"JSON data saved to {filename}\")\n",
        "    except Exception as e:\n",
        "        print(f\"Error saving JSON data: {e}\")\n",
        "\n",
        "medical_data = {\n",
        "  \"symptoms\": {\n",
        "    \"headache\": [\"common cold\", \"flu\", \"migraine\", \"tension headache\", \"sinusitis\"],\n",
        "    \"fever\": [\"common cold\", \"flu\", \"infection\", \"strep throat\"],\n",
        "    \"cough\": [\"common cold\", \"flu\", \"bronchitis\", \"pneumonia\", \"allergies\"],\n",
        "    \"sneezing\": [\"common cold\", \"flu\", \"allergies\"],\n",
        "    \"fatigue\": [\"common cold\", \"flu\", \"stress\", \"lack of sleep\", \"anemia\"],\n",
        "    \"nausea\": [\"flu\", \"food poisoning\", \"stomach virus\", \"migraine\", \"pregnancy\"],\n",
        "    \"vomiting\": [\"flu\", \"food poisoning\", \"stomach virus\", \"motion sickness\"],\n",
        "    \"diarrhea\": [\"stomach virus\", \"food poisoning\", \"irritable bowel syndrome\", \"lactose intolerance\"],\n",
        "    \"rash\": [\"allergies\", \"chickenpox\", \"measles\", \"eczema\", \"poison ivy\"],\n",
        "    \"dizziness\": [\"dehydration\", \"inner ear infection\", \"low blood sugar\", \"vertigo\"],\n",
        "    \"weakness\": [\"muscle strain\", \"flu\", \"electrolyte imbalance\", \"multiple sclerosis\"],\n",
        "    \"insomnia\": [\"stress\", \"anxiety\", \"depression\", \"sleep apnea\"],\n",
        "    \"itchy\": [\"allergies\", \"eczema\", \"dry skin\", \"psoriasis\"],\n",
        "    \"bloating\": [\"irritable bowel syndrome\", \"lactose intolerance\", \"food intolerance\", \"celiac disease\", \"constipation\"],\n",
        "    \"chills\": [\"flu\", \"common cold\", \"pneumonia\", \"infection\", \"sepsis\"],\n",
        "    \"constipation\": [\"irritable bowel syndrome\", \"dehydration\", \"lack of fiber\", \"medication side effects\", \"hypothyroidism\"],\n",
        "    \"sweating\": [\"anxiety\", \"menopause\", \"hyperthyroidism\", \"low blood sugar\", \"infection\"],\n",
        "    \"thirst\": [\"dehydration\", \"diabetes\", \"kidney problems\", \"medication side effects\"],\n",
        "    \"tremors\": [\"anxiety\", \"Parkinson's disease\", \"multiple sclerosis\", \"alcohol withdrawal\", \"low blood sugar\"],\n",
        "    \"weight gain\": [\"thyroid disorders\", \"diabetes\", \"depression\", \"eating disorders\", \"certain medications\"],\n",
        "    \"weight loss\": [\"thyroid disorders\", \"diabetes\", \"depression\", \"eating disorders\", \"cancer\", \"certain medications\"],\n",
        "    \"burning\": [\"urinary tract infection\", \"heartburn\", \"acid reflux\", \"sunburn\", \"nerve pain\"],\n",
        "    \"cramps\": [\"menstrual cramps\", \"muscle cramps\", \"dehydration\", \"irritable bowel syndrome\"],\n",
        "    \"discharge\": [\"vaginal infection\", \"STI\", \"ear infection\"],\n",
        "    \"pain\": [\"arthritis\", \"injury\", \"infection\", \"nerve damage\", \"cancer\"],\n",
        "    \"swelling\": [\"injury\", \"inflammation\", \"infection\", \"lymphedema\", \"heart failure\"],\n",
        "    \"tingling\": [\"nerve damage\", \"vitamin deficiency\", \"multiple sclerosis\", \"diabetes\"]\n",
        "  },\n",
        "  \"recommendations\": {\n",
        "    \"common cold\": \"Rest, stay hydrated, and consider over-the-counter medications for symptom relief.\",\n",
        "    \"flu\": \"Rest, stay hydrated, and consider over-the-counter medications for symptom relief.\",\n",
        "    \"migraine\": \"Rest in a quiet, dark room. Apply a cold compress to your forehead. Consider over-the-counter pain relievers.\",\n",
        "    \"tension headache\": \"Apply a warm compress to your neck and shoulders. Practice stress management techniques. Consider over-the-counter pain relievers.\",\n",
        "    \"sinusitis\": \"Use a humidifier or saline nasal spray. Consider over-the-counter pain relievers and decongestants.\",\n",
        "    \"infection\": \"Consult a doctor for diagnosis and appropriate treatment, which may include antibiotics.\",\n",
        "    \"strep throat\": \"Consult a doctor for diagnosis and appropriate treatment, which usually involves antibiotics.\",\n",
        "    \"tonsillitis\": \"Gargle with salt water and drink warm liquids. Consider over-the-counter pain relievers.\",\n",
        "    \"allergies\": \"Identify and avoid allergens. Consider over-the-counter antihistamines.\",\n",
        "    \"bronchitis\": \"Rest, stay hydrated, and use a humidifier. Consider over-the-counter pain relievers and cough suppressants.\",\n",
        "    \"pneumonia\": \"Consult a doctor for diagnosis and appropriate treatment, which may include antibiotics.\",\n",
        "    \"muscle strain\": \"Rest the affected muscle, apply ice, and consider over-the-counter pain relievers.\",\n",
        "    \"stress\": \"Practice stress management techniques such as exercise, meditation, or deep breathing.\",\n",
        "    \"lack of sleep\": \"Aim for 7-9 hours of quality sleep per night. Establish a regular sleep schedule.\",\n",
        "    \"food poisoning\": \"Stay hydrated and rest. Consider over-the-counter medications for symptom relief.\",\n",
        "    \"stomach virus\": \"Stay hydrated and rest. Consider over-the-counter medications for symptom relief.\",\n",
        "    \"irritable bowel syndrome\": \"Consult a doctor for diagnosis and management strategies. Dietary changes and stress management may help.\",\n",
        "    \"chickenpox\": \"Consult a doctor for diagnosis and treatment. Isolate yourself to prevent spreading the virus.\",\n",
        "    \"measles\": \"Consult a doctor for diagnosis and treatment. Isolate yourself to prevent spreading the virus.\",\n",
        "    \"eczema\": \"Keep your skin moisturized. Avoid triggers that worsen your eczema.\",\n",
        "    \"asthma\": \"Use your prescribed inhaler as directed. Avoid triggers that worsen your asthma.\",\n",
        "    \"heart attack\": \"Seek immediate medical attention. Call emergency services or go to the nearest hospital.\",\n",
        "    \"angina\": \"Consult a doctor for diagnosis and treatment. Follow your doctor's recommendations for managing your condition.\",\n",
        "    \"anxiety\": \"Practice relaxation techniques such as deep breathing and meditation. Seek professional help if anxiety is persistent or severe.\",\n",
        "    \"appendicitis\": \"Seek immediate medical attention. Call emergency services or go to the nearest hospital.\",\n",
        "    \"stomach ulcer\": \"Consult a doctor for diagnosis and treatment. Avoid foods and medications that irritate your stomach.\",\n",
        "    \"menstrual cramps\": \"Apply heat to your lower abdomen. Consider over-the-counter pain relievers.\",\n",
        "    \"irritable bowel syndrome\": \"Consult a doctor for diagnosis and management strategies. Dietary changes and stress management may help.\",\n",
        "    \"lactose intolerance\": \"Avoid consuming lactose-containing products. Consider lactase supplements.\",\n",
        "    \"food intolerance\": \"Identify and avoid trigger foods. Consult a doctor or registered dietitian for guidance.\",\n",
        "    \"celiac disease\": \"Maintain a strict gluten-free diet. Consult a doctor or registered dietitian for management.\",\n",
        "    \"sepsis\": \"Seek immediate medical attention. Sepsis is a life-threatening condition.\",\n",
        "    \"hypothyroidism\": \"Consult a doctor for diagnosis and treatment, which typically involves hormone replacement therapy.\",\n",
        "    \"menopause\": \"Discuss hormone replacement therapy or other management options with your doctor. Manage symptoms with lifestyle changes.\",\n",
        "    \"hyperthyroidism\": \"Consult a doctor for diagnosis and treatment, which may include medication, radioactive iodine therapy, or surgery.\",\n",
        "    \"Parkinson's disease\": \"Consult a neurologist for diagnosis and a comprehensive treatment plan.\",\n",
        "    \"multiple sclerosis\": \"Consult a neurologist for diagnosis and a comprehensive treatment plan.\",\n",
        "    \"alcohol withdrawal\": \"Seek medical supervision for safe detoxification. Support groups and therapy can aid in recovery.\",\n",
        "    \"urinary tract infection\": \"Consult a doctor for diagnosis and treatment, which usually involves antibiotics.\",\n",
        "    \"heartburn\": \"Avoid trigger foods, eat smaller meals, and don't lie down immediately after eating. Consider over-the-counter antacids.\",\n",
        "    \"acid reflux\": \"Similar to heartburn, avoid trigger foods, eat smaller meals, and don't lie down immediately after eating. Consult a doctor if symptoms persist.\",\n",
        "    \"sunburn\": \"Apply cool compresses and aloe vera. Avoid further sun exposure. Use sunscreen regularly.\",\n",
        "    \"nerve pain\": \"Consult a doctor for diagnosis and treatment, which may include medication, physical therapy, or other therapies.\",\n",
        "    \"arthritis\": \"Consult a doctor for diagnosis and a treatment plan, which may include medication, physical therapy, and lifestyle changes.\",\n",
        "    \"lymphedema\": \"Consult a doctor or lymphedema specialist for management, which may include compression therapy and specialized exercises.\",\n",
        "    \"heart failure\": \"Consult a cardiologist for diagnosis and a comprehensive treatment plan, which may include medication, lifestyle changes, and other therapies.\",\n",
        "    \"vaginal infection\": \"Consult a doctor for diagnosis and treatment, which may depend on the type of infection.\",\n",
        "    \"STI\": \"Consult a doctor for diagnosis and treatment.\"\n",
        "  }\n",
        "}\n",
        "generate_json_file(medical_data, \"medical_data.json\")"
      ],
      "metadata": {
        "id": "hmi1iRGhvlrf",
        "colab": {
          "base_uri": "https://localhost:8080/"
        },
        "outputId": "fe254213-6c1b-484f-dc1b-648c057a40d6"
      },
      "execution_count": 18,
      "outputs": [
        {
          "output_type": "stream",
          "name": "stdout",
          "text": [
            "JSON data saved to medical_data.json\n"
          ]
        }
      ]
    },
    {
      "cell_type": "markdown",
      "source": [
        "**Step 2.2: Load the data from the JSON knowledge base**\n",
        "\n",
        "This file contains information about various symptoms, potential medical conditions, and general recommendations. Your chatbot will use this knowledge base to understand user input and provide helpful responses. The data could be loaded directly into a dictionary; however, this setup ensures modularity and will better translate if you want to further develop this project outside of the Jupyter environment in the future.\n",
        "\n",
        "Run the cell labeled Step 2.2a to load the knowledge base. The data will be displayed as a JSON dictionary."
      ],
      "metadata": {
        "id": "XlmDc_tK54ER"
      }
    },
    {
      "cell_type": "code",
      "source": [
        "def print_json_from_file(filename):\n",
        "    \"\"\"Prints the contents of a JSON file to the console with indentation.\"\"\"\n",
        "    try:\n",
        "        with open(filename, 'r') as f:\n",
        "            data = json.load(f)  # Load the JSON data\n",
        "            print(json.dumps(data, indent=4)) # Print with indentation\n",
        "    except FileNotFoundError:\n",
        "        print(f\"Error: File '{filename}' not found.\")\n",
        "    except json.JSONDecodeError:\n",
        "        print(f\"Error: Invalid JSON format in '{filename}'.\")\n",
        "    except Exception as e:  # Catch any other potential errors\n",
        "        print(f\"An error occurred: {e}\")\n",
        "print_json_from_file(\"medical_data.json\")"
      ],
      "metadata": {
        "colab": {
          "base_uri": "https://localhost:8080/"
        },
        "id": "XcgylJxAwEmm",
        "outputId": "08dd83a9-1f2f-45d2-df17-ce86d43533c0"
      },
      "execution_count": 19,
      "outputs": [
        {
          "output_type": "stream",
          "name": "stdout",
          "text": [
            "{\n",
            "    \"symptoms\": {\n",
            "        \"headache\": [\n",
            "            \"common cold\",\n",
            "            \"flu\",\n",
            "            \"migraine\",\n",
            "            \"tension headache\",\n",
            "            \"sinusitis\"\n",
            "        ],\n",
            "        \"fever\": [\n",
            "            \"common cold\",\n",
            "            \"flu\",\n",
            "            \"infection\",\n",
            "            \"strep throat\"\n",
            "        ],\n",
            "        \"cough\": [\n",
            "            \"common cold\",\n",
            "            \"flu\",\n",
            "            \"bronchitis\",\n",
            "            \"pneumonia\",\n",
            "            \"allergies\"\n",
            "        ],\n",
            "        \"sneezing\": [\n",
            "            \"common cold\",\n",
            "            \"flu\",\n",
            "            \"allergies\"\n",
            "        ],\n",
            "        \"fatigue\": [\n",
            "            \"common cold\",\n",
            "            \"flu\",\n",
            "            \"stress\",\n",
            "            \"lack of sleep\",\n",
            "            \"anemia\"\n",
            "        ],\n",
            "        \"nausea\": [\n",
            "            \"flu\",\n",
            "            \"food poisoning\",\n",
            "            \"stomach virus\",\n",
            "            \"migraine\",\n",
            "            \"pregnancy\"\n",
            "        ],\n",
            "        \"vomiting\": [\n",
            "            \"flu\",\n",
            "            \"food poisoning\",\n",
            "            \"stomach virus\",\n",
            "            \"motion sickness\"\n",
            "        ],\n",
            "        \"diarrhea\": [\n",
            "            \"stomach virus\",\n",
            "            \"food poisoning\",\n",
            "            \"irritable bowel syndrome\",\n",
            "            \"lactose intolerance\"\n",
            "        ],\n",
            "        \"rash\": [\n",
            "            \"allergies\",\n",
            "            \"chickenpox\",\n",
            "            \"measles\",\n",
            "            \"eczema\",\n",
            "            \"poison ivy\"\n",
            "        ],\n",
            "        \"dizziness\": [\n",
            "            \"dehydration\",\n",
            "            \"inner ear infection\",\n",
            "            \"low blood sugar\",\n",
            "            \"vertigo\"\n",
            "        ],\n",
            "        \"weakness\": [\n",
            "            \"muscle strain\",\n",
            "            \"flu\",\n",
            "            \"electrolyte imbalance\",\n",
            "            \"multiple sclerosis\"\n",
            "        ],\n",
            "        \"insomnia\": [\n",
            "            \"stress\",\n",
            "            \"anxiety\",\n",
            "            \"depression\",\n",
            "            \"sleep apnea\"\n",
            "        ],\n",
            "        \"itchy\": [\n",
            "            \"allergies\",\n",
            "            \"eczema\",\n",
            "            \"dry skin\",\n",
            "            \"psoriasis\"\n",
            "        ],\n",
            "        \"bloating\": [\n",
            "            \"irritable bowel syndrome\",\n",
            "            \"lactose intolerance\",\n",
            "            \"food intolerance\",\n",
            "            \"celiac disease\",\n",
            "            \"constipation\"\n",
            "        ],\n",
            "        \"chills\": [\n",
            "            \"flu\",\n",
            "            \"common cold\",\n",
            "            \"pneumonia\",\n",
            "            \"infection\",\n",
            "            \"sepsis\"\n",
            "        ],\n",
            "        \"constipation\": [\n",
            "            \"irritable bowel syndrome\",\n",
            "            \"dehydration\",\n",
            "            \"lack of fiber\",\n",
            "            \"medication side effects\",\n",
            "            \"hypothyroidism\"\n",
            "        ],\n",
            "        \"sweating\": [\n",
            "            \"anxiety\",\n",
            "            \"menopause\",\n",
            "            \"hyperthyroidism\",\n",
            "            \"low blood sugar\",\n",
            "            \"infection\"\n",
            "        ],\n",
            "        \"thirst\": [\n",
            "            \"dehydration\",\n",
            "            \"diabetes\",\n",
            "            \"kidney problems\",\n",
            "            \"medication side effects\"\n",
            "        ],\n",
            "        \"tremors\": [\n",
            "            \"anxiety\",\n",
            "            \"Parkinson's disease\",\n",
            "            \"multiple sclerosis\",\n",
            "            \"alcohol withdrawal\",\n",
            "            \"low blood sugar\"\n",
            "        ],\n",
            "        \"weight gain\": [\n",
            "            \"thyroid disorders\",\n",
            "            \"diabetes\",\n",
            "            \"depression\",\n",
            "            \"eating disorders\",\n",
            "            \"certain medications\"\n",
            "        ],\n",
            "        \"weight loss\": [\n",
            "            \"thyroid disorders\",\n",
            "            \"diabetes\",\n",
            "            \"depression\",\n",
            "            \"eating disorders\",\n",
            "            \"cancer\",\n",
            "            \"certain medications\"\n",
            "        ],\n",
            "        \"burning\": [\n",
            "            \"urinary tract infection\",\n",
            "            \"heartburn\",\n",
            "            \"acid reflux\",\n",
            "            \"sunburn\",\n",
            "            \"nerve pain\"\n",
            "        ],\n",
            "        \"cramps\": [\n",
            "            \"menstrual cramps\",\n",
            "            \"muscle cramps\",\n",
            "            \"dehydration\",\n",
            "            \"irritable bowel syndrome\"\n",
            "        ],\n",
            "        \"discharge\": [\n",
            "            \"vaginal infection\",\n",
            "            \"STI\",\n",
            "            \"ear infection\"\n",
            "        ],\n",
            "        \"pain\": [\n",
            "            \"arthritis\",\n",
            "            \"injury\",\n",
            "            \"infection\",\n",
            "            \"nerve damage\",\n",
            "            \"cancer\"\n",
            "        ],\n",
            "        \"swelling\": [\n",
            "            \"injury\",\n",
            "            \"inflammation\",\n",
            "            \"infection\",\n",
            "            \"lymphedema\",\n",
            "            \"heart failure\"\n",
            "        ],\n",
            "        \"tingling\": [\n",
            "            \"nerve damage\",\n",
            "            \"vitamin deficiency\",\n",
            "            \"multiple sclerosis\",\n",
            "            \"diabetes\"\n",
            "        ]\n",
            "    },\n",
            "    \"recommendations\": {\n",
            "        \"common cold\": \"Rest, stay hydrated, and consider over-the-counter medications for symptom relief.\",\n",
            "        \"flu\": \"Rest, stay hydrated, and consider over-the-counter medications for symptom relief.\",\n",
            "        \"migraine\": \"Rest in a quiet, dark room. Apply a cold compress to your forehead. Consider over-the-counter pain relievers.\",\n",
            "        \"tension headache\": \"Apply a warm compress to your neck and shoulders. Practice stress management techniques. Consider over-the-counter pain relievers.\",\n",
            "        \"sinusitis\": \"Use a humidifier or saline nasal spray. Consider over-the-counter pain relievers and decongestants.\",\n",
            "        \"infection\": \"Consult a doctor for diagnosis and appropriate treatment, which may include antibiotics.\",\n",
            "        \"strep throat\": \"Consult a doctor for diagnosis and appropriate treatment, which usually involves antibiotics.\",\n",
            "        \"tonsillitis\": \"Gargle with salt water and drink warm liquids. Consider over-the-counter pain relievers.\",\n",
            "        \"allergies\": \"Identify and avoid allergens. Consider over-the-counter antihistamines.\",\n",
            "        \"bronchitis\": \"Rest, stay hydrated, and use a humidifier. Consider over-the-counter pain relievers and cough suppressants.\",\n",
            "        \"pneumonia\": \"Consult a doctor for diagnosis and appropriate treatment, which may include antibiotics.\",\n",
            "        \"muscle strain\": \"Rest the affected muscle, apply ice, and consider over-the-counter pain relievers.\",\n",
            "        \"stress\": \"Practice stress management techniques such as exercise, meditation, or deep breathing.\",\n",
            "        \"lack of sleep\": \"Aim for 7-9 hours of quality sleep per night. Establish a regular sleep schedule.\",\n",
            "        \"food poisoning\": \"Stay hydrated and rest. Consider over-the-counter medications for symptom relief.\",\n",
            "        \"stomach virus\": \"Stay hydrated and rest. Consider over-the-counter medications for symptom relief.\",\n",
            "        \"irritable bowel syndrome\": \"Consult a doctor for diagnosis and management strategies. Dietary changes and stress management may help.\",\n",
            "        \"chickenpox\": \"Consult a doctor for diagnosis and treatment. Isolate yourself to prevent spreading the virus.\",\n",
            "        \"measles\": \"Consult a doctor for diagnosis and treatment. Isolate yourself to prevent spreading the virus.\",\n",
            "        \"eczema\": \"Keep your skin moisturized. Avoid triggers that worsen your eczema.\",\n",
            "        \"asthma\": \"Use your prescribed inhaler as directed. Avoid triggers that worsen your asthma.\",\n",
            "        \"heart attack\": \"Seek immediate medical attention. Call emergency services or go to the nearest hospital.\",\n",
            "        \"angina\": \"Consult a doctor for diagnosis and treatment. Follow your doctor's recommendations for managing your condition.\",\n",
            "        \"anxiety\": \"Practice relaxation techniques such as deep breathing and meditation. Seek professional help if anxiety is persistent or severe.\",\n",
            "        \"appendicitis\": \"Seek immediate medical attention. Call emergency services or go to the nearest hospital.\",\n",
            "        \"stomach ulcer\": \"Consult a doctor for diagnosis and treatment. Avoid foods and medications that irritate your stomach.\",\n",
            "        \"menstrual cramps\": \"Apply heat to your lower abdomen. Consider over-the-counter pain relievers.\",\n",
            "        \"lactose intolerance\": \"Avoid consuming lactose-containing products. Consider lactase supplements.\",\n",
            "        \"food intolerance\": \"Identify and avoid trigger foods. Consult a doctor or registered dietitian for guidance.\",\n",
            "        \"celiac disease\": \"Maintain a strict gluten-free diet. Consult a doctor or registered dietitian for management.\",\n",
            "        \"sepsis\": \"Seek immediate medical attention. Sepsis is a life-threatening condition.\",\n",
            "        \"hypothyroidism\": \"Consult a doctor for diagnosis and treatment, which typically involves hormone replacement therapy.\",\n",
            "        \"menopause\": \"Discuss hormone replacement therapy or other management options with your doctor. Manage symptoms with lifestyle changes.\",\n",
            "        \"hyperthyroidism\": \"Consult a doctor for diagnosis and treatment, which may include medication, radioactive iodine therapy, or surgery.\",\n",
            "        \"Parkinson's disease\": \"Consult a neurologist for diagnosis and a comprehensive treatment plan.\",\n",
            "        \"multiple sclerosis\": \"Consult a neurologist for diagnosis and a comprehensive treatment plan.\",\n",
            "        \"alcohol withdrawal\": \"Seek medical supervision for safe detoxification. Support groups and therapy can aid in recovery.\",\n",
            "        \"urinary tract infection\": \"Consult a doctor for diagnosis and treatment, which usually involves antibiotics.\",\n",
            "        \"heartburn\": \"Avoid trigger foods, eat smaller meals, and don't lie down immediately after eating. Consider over-the-counter antacids.\",\n",
            "        \"acid reflux\": \"Similar to heartburn, avoid trigger foods, eat smaller meals, and don't lie down immediately after eating. Consult a doctor if symptoms persist.\",\n",
            "        \"sunburn\": \"Apply cool compresses and aloe vera. Avoid further sun exposure. Use sunscreen regularly.\",\n",
            "        \"nerve pain\": \"Consult a doctor for diagnosis and treatment, which may include medication, physical therapy, or other therapies.\",\n",
            "        \"arthritis\": \"Consult a doctor for diagnosis and a treatment plan, which may include medication, physical therapy, and lifestyle changes.\",\n",
            "        \"lymphedema\": \"Consult a doctor or lymphedema specialist for management, which may include compression therapy and specialized exercises.\",\n",
            "        \"heart failure\": \"Consult a cardiologist for diagnosis and a comprehensive treatment plan, which may include medication, lifestyle changes, and other therapies.\",\n",
            "        \"vaginal infection\": \"Consult a doctor for diagnosis and treatment, which may depend on the type of infection.\",\n",
            "        \"STI\": \"Consult a doctor for diagnosis and treatment.\"\n",
            "    }\n",
            "}\n"
          ]
        }
      ]
    },
    {
      "cell_type": "markdown",
      "source": [
        "**Step 3: Develop the chatbot logic**\n",
        "\n",
        "Now it's time to build the core logic of your medical diagnosis assistant chatbot. You'll use spaCy to process user input, extract symptoms, and provide relevant responses based on the medical knowledge base.\n",
        "\n",
        "Step 3.1: Extract the symptoms\n",
        "The extract_symptoms function will process the user's input using spaCy to identify individual symptoms. It will iterate through each word (or token) in the input and check if its lowercase form matches any known symptom in the medical knowledge base. To avoid duplicates, it ensures that each symptom is added to the extracted_symptoms list only once. Finally, the function returns a list of unique symptoms found in the user's input."
      ],
      "metadata": {
        "id": "N6DiP0Lk6ZX6"
      }
    },
    {
      "cell_type": "code",
      "source": [
        "import spacy\n",
        "nlp = spacy.load(\"en_core_web_sm\")\n",
        "\n",
        "# Load the JSON file with symptom-condition mappings\n",
        "import json\n",
        "with open(\"medical_data.json\", \"r\") as f:\n",
        "    medical_data = json.load(f)\n",
        "\n",
        "def extract_symptoms(user_input):\n",
        "    \"\"\"Extracts symptoms from user input using spaCy.\"\"\"\n",
        "    doc = nlp(user_input)\n",
        "    extracted_symptoms = []\n",
        "\n",
        "    for token in doc:\n",
        "        word = token.text.lower()\n",
        "        if word in medical_data[\"symptoms\"] and word not in extracted_symptoms:\n",
        "            extracted_symptoms.append(word)\n",
        "\n",
        "    return extracted_symptoms\n",
        "\n",
        "# Test\n",
        "user_input = \"I have a headache and a fever.\"\n",
        "user_symptoms = extract_symptoms(user_input)\n",
        "print(user_symptoms)"
      ],
      "metadata": {
        "colab": {
          "base_uri": "https://localhost:8080/"
        },
        "id": "rTdObRXyyu0X",
        "outputId": "480eb67b-c1a3-4e4c-8431-417ef2f2db72"
      },
      "execution_count": 20,
      "outputs": [
        {
          "output_type": "stream",
          "name": "stdout",
          "text": [
            "['headache', 'fever']\n"
          ]
        }
      ]
    },
    {
      "cell_type": "markdown",
      "source": [
        "**Step 3.2: Analyze the symptoms**\n",
        "\n",
        "The analyze_symptoms function takes a list of extracted symptoms and determines the possible medical conditions associated with those symptoms. It uses the medical_data dictionary to look up the conditions linked to each symptom. For every symptom provided, it iterates through the corresponding list of potential conditions and tallies how often each condition appears. The function ultimately returns a dictionary containing each possible condition along with a count of how many input symptoms are associated with it. This count helps determine the likelihood of each condition.\n",
        "\n",
        "\n",
        "This step involves a for loop, followed by an if statement, followed by another if statement, plus one other line of code.\n",
        "\n",
        "You can use a for loop to iterate through the extracted_symptoms list and the list of conditions for each symptom.\n",
        "\n",
        "The in operator can be used to check if a key exists in a dictionary.\n",
        "Example: If the extracted_symptoms list is [\"headache\", \"fever\"], the code should analyze these symptoms based on the medical_data and return a dictionary like this:\n",
        "\n",
        "{\n",
        "    \"common cold\": 2,        # headache and fever match common cold\n",
        "    \"flu\": 2,                # headache and fever match flu\n",
        "    \"migraine\": 1,            # headache matches migraine\n",
        "    \"tension headache\": 1,  # headache matches tension headache\n",
        "    \"sinusitis\": 1,            # Only headache matches sinusitis\n",
        "    \"infection\": 1,            # Only fever matches infection\n",
        "    \"strep throat\": 1        # Only fever matches strep throat\n",
        "}\n",
        "\n",
        "The goal is to count how many times each possible condition appears across the given symptoms.\n",
        "\n",
        "The possible_conditions dictionary should contain the conditions as keys and their counts as values."
      ],
      "metadata": {
        "id": "T3GOVQ2I6mGO"
      }
    },
    {
      "cell_type": "code",
      "source": [
        "def analyze_symptoms(extracted_symptoms):\n",
        "    \"\"\"Analyzes symptoms and returns possible conditions with counts.\"\"\"\n",
        "    possible_conditions = {}  # Use a dictionary to count occurrences\n",
        "\n",
        "    for symptom in extracted_symptoms:\n",
        "        if symptom in medical_data[\"symptoms\"]:\n",
        "            for condition in medical_data[\"symptoms\"][symptom]:\n",
        "                if condition in possible_conditions:\n",
        "                    possible_conditions[condition] += 1\n",
        "                else:\n",
        "                    possible_conditions[condition] = 1\n",
        "\n",
        "    return possible_conditions"
      ],
      "metadata": {
        "id": "QaKOYwTr4M_X"
      },
      "execution_count": 21,
      "outputs": []
    },
    {
      "cell_type": "code",
      "source": [
        "# Checking your Results\n",
        "extracted_symptoms = [\"headache\", \"fever\"]\n",
        "possible_conditions = analyze_symptoms(extracted_symptoms)\n",
        "print(extracted_symptoms)\n",
        "print(possible_conditions)"
      ],
      "metadata": {
        "colab": {
          "base_uri": "https://localhost:8080/"
        },
        "id": "3XorAwUc4OHx",
        "outputId": "218f4fff-4551-4443-a9f4-9bb5c2d44a39"
      },
      "execution_count": 22,
      "outputs": [
        {
          "output_type": "stream",
          "name": "stdout",
          "text": [
            "['headache', 'fever']\n",
            "{'common cold': 2, 'flu': 2, 'migraine': 1, 'tension headache': 1, 'sinusitis': 1, 'infection': 1, 'strep throat': 1}\n"
          ]
        }
      ]
    },
    {
      "cell_type": "markdown",
      "source": [
        "**Step 3.3: Generate responses**\n",
        "\n",
        "The generate_response function takes the extracted symptoms and possible conditions as input and constructs a response for the user. If no symptoms are recognized, it informs the user. Otherwise, it acknowledges the symptoms and, if applicable, presents the possible conditions sorted by their likelihood, along with corresponding recommendations from the medical knowledge base. If no matching conditions are found, it informs the user accordingly. Finally, it adds a disclaimer advising the user to consult a doctor for definitive medical advice.\n",
        "\n",
        "\n",
        "The items() method of a dictionary can be used to iterate through its key-value pairs.\n",
        "\n",
        "The in operator can be used to check if a key exists in a dictionary.\n",
        "\n",
        "Example: If the possible_conditions dictionary is:\n",
        " {\n",
        "     \"common cold\": 2,\n",
        "     \"flu\": 2,\n",
        "     \"migraine\": 1\n",
        " }\n",
        "\n",
        "\n",
        "The code should generate a response like this:\n",
        "\n",
        "Based on your symptoms, the most likely possibilities are:\n",
        "\n",
        "    - common cold (2 matching symptom(s))\n",
        "        * Rest, stay hydrated, and consider over-the-counter medications for symptom relief.\n",
        "    - flu (2 matching symptom(s))\n",
        "        * Rest, stay hydrated, and consider over-the-counter medications for symptom relief.\n",
        "    - migraine (1 matching symptom(s))\n",
        "        * Rest in a quiet, dark room. Apply a cold compress to your forehead. Consider over-the-counter pain relievers."
      ],
      "metadata": {
        "id": "VhymGK577Bsb"
      }
    },
    {
      "cell_type": "code",
      "source": [
        "def generate_response(extracted_symptoms, possible_conditions):\n",
        "    \"\"\"Generates a response based on extracted symptoms and possible conditions.\"\"\"\n",
        "    response = \"\"\n",
        "    if extracted_symptoms:\n",
        "        response += \"I understand you have \" + \", \".join(extracted_symptoms) + \".\"\n",
        "\n",
        "        if possible_conditions:\n",
        "            response += \"\\n\\nBased on your symptoms, the most likely possibilities are:\\n\"\n",
        "            sorted_conditions = sorted(possible_conditions.items(), key=lambda item: item[1], reverse=True)\n",
        "\n",
        "            for condition, count in sorted_conditions:\n",
        "                response += f\"- {condition} ({count} matching symptom(s))\\n\"\n",
        "                if condition in medical_data[\"recommendations\"]:\n",
        "                    response += f\"    * {medical_data['recommendations'][condition]}\\n\"\n",
        "        else:\n",
        "            response += \"\\nI'm sorry, I don't recognize those symptoms.\\n\"\n",
        "    else:\n",
        "        response = \"I'm sorry, I didn't recognize any symptoms in your description.\"\n",
        "\n",
        "    response += \"Remember, I am just a chatbot and cannot provide definitive medical advice. Please consult a doctor for proper diagnosis and treatment.\"\n",
        "    return response"
      ],
      "metadata": {
        "id": "TUsrCPCa4RIN"
      },
      "execution_count": 23,
      "outputs": []
    },
    {
      "cell_type": "code",
      "source": [
        "# Checking your Results\n",
        "extracted_symptoms = [\"headache\", \"fever\"]\n",
        "possible_conditions = {\n",
        "    \"common cold\": 2,\n",
        "    \"flu\": 2,\n",
        "    \"migraine\": 1\n",
        "}\n",
        "print(generate_response(extracted_symptoms, possible_conditions))"
      ],
      "metadata": {
        "colab": {
          "base_uri": "https://localhost:8080/"
        },
        "id": "732hQN0f4W_-",
        "outputId": "b6d636f6-bf3b-4846-c0f3-91a3c75dd61e"
      },
      "execution_count": 24,
      "outputs": [
        {
          "output_type": "stream",
          "name": "stdout",
          "text": [
            "I understand you have headache, fever.\n",
            "\n",
            "Based on your symptoms, the most likely possibilities are:\n",
            "- common cold (2 matching symptom(s))\n",
            "    * Rest, stay hydrated, and consider over-the-counter medications for symptom relief.\n",
            "- flu (2 matching symptom(s))\n",
            "    * Rest, stay hydrated, and consider over-the-counter medications for symptom relief.\n",
            "- migraine (1 matching symptom(s))\n",
            "    * Rest in a quiet, dark room. Apply a cold compress to your forehead. Consider over-the-counter pain relievers.\n",
            "Remember, I am just a chatbot and cannot provide definitive medical advice. Please consult a doctor for proper diagnosis and treatment.\n"
          ]
        }
      ]
    },
    {
      "cell_type": "markdown",
      "source": [
        "**Step 3.4: Test the program**\n"
      ],
      "metadata": {
        "id": "mTMAvid97WyQ"
      }
    },
    {
      "cell_type": "code",
      "source": [
        "possible_conditions = []\n",
        "extracted_symptoms = []\n",
        "\n",
        "# Get user's symptoms\n",
        "user_input = input(\"Please enter your primary concern: \")\n",
        "\n",
        "# Extract symptoms\n",
        "extracted_symptoms = extract_symptoms(user_input)\n",
        "\n",
        "# Analyze symptoms\n",
        "possible_conditions = analyze_symptoms(extracted_symptoms)\n",
        "\n",
        "# Generate initial response\n",
        "response = generate_response(extracted_symptoms, possible_conditions)\n",
        "print(\"Chatbot:\", response)"
      ],
      "metadata": {
        "colab": {
          "base_uri": "https://localhost:8080/"
        },
        "id": "A60MR44U4aE1",
        "outputId": "01e67938-1c56-4bdb-bb64-7967921130ab"
      },
      "execution_count": 25,
      "outputs": [
        {
          "output_type": "stream",
          "name": "stdout",
          "text": [
            "Please enter your primary concern: I have headache and fever\n",
            "Chatbot: I understand you have headache, fever.\n",
            "\n",
            "Based on your symptoms, the most likely possibilities are:\n",
            "- common cold (2 matching symptom(s))\n",
            "    * Rest, stay hydrated, and consider over-the-counter medications for symptom relief.\n",
            "- flu (2 matching symptom(s))\n",
            "    * Rest, stay hydrated, and consider over-the-counter medications for symptom relief.\n",
            "- migraine (1 matching symptom(s))\n",
            "    * Rest in a quiet, dark room. Apply a cold compress to your forehead. Consider over-the-counter pain relievers.\n",
            "- tension headache (1 matching symptom(s))\n",
            "    * Apply a warm compress to your neck and shoulders. Practice stress management techniques. Consider over-the-counter pain relievers.\n",
            "- sinusitis (1 matching symptom(s))\n",
            "    * Use a humidifier or saline nasal spray. Consider over-the-counter pain relievers and decongestants.\n",
            "- infection (1 matching symptom(s))\n",
            "    * Consult a doctor for diagnosis and appropriate treatment, which may include antibiotics.\n",
            "- strep throat (1 matching symptom(s))\n",
            "    * Consult a doctor for diagnosis and appropriate treatment, which usually involves antibiotics.\n",
            "Remember, I am just a chatbot and cannot provide definitive medical advice. Please consult a doctor for proper diagnosis and treatment.\n"
          ]
        }
      ]
    },
    {
      "cell_type": "markdown",
      "source": [
        "**Step 4: Enhance the chatbot with multi-turn conversation**\n",
        "\n",
        "\n",
        "Step 4 implements a loop that repeatedly asks the user for additional symptoms.\n",
        "\n",
        "Inside the loop, the chatbot takes the user's input and checks if they want to add more symptoms. If they do, it extracts any valid symptoms from their input and adds them to the list of extracted symptoms. It then re-analyzes the updated list of symptoms and generates a new response with the updated diagnosis and recommendations. If the user doesn't enter any new symptoms or enters an invalid symptom, the chatbot prompts them to try again. After the user finishes entering symptoms, the chatbot prints the final response with the complete diagnosis and recommendations."
      ],
      "metadata": {
        "id": "8CcEC4LL7fG-"
      }
    },
    {
      "cell_type": "code",
      "source": [
        "while True:\n",
        "    additional_symptoms = input(\"Please enter an additional symptom, or 'no' if you have no more: \")\n",
        "    if additional_symptoms.lower() in (\"no\", \"nope\", \"none\"):\n",
        "        break  # Exit the loop if the user has no more symptoms\n",
        "\n",
        "    new_symptoms = extract_symptoms(additional_symptoms)\n",
        "    if new_symptoms:  # Only add and analyze if new symptoms are found\n",
        "        extracted_symptoms.extend(new_symptoms)\n",
        "        possible_conditions = analyze_symptoms(extracted_symptoms)  # Line 1\n",
        "        response = generate_response(extracted_symptoms, possible_conditions)  # Line 2\n",
        "\n",
        "        print(\"Chatbot:\", response)  # Print the updated response\n",
        "    else:\n",
        "        print(\"Chatbot: I didn't recognize that symptom. Please try again.\")\n",
        "\n",
        "print(\"Chatbot:\", response)"
      ],
      "metadata": {
        "colab": {
          "base_uri": "https://localhost:8080/"
        },
        "id": "AyWur1eG4aDg",
        "outputId": "69261219-a9eb-442e-c5f9-e8e251bd9753"
      },
      "execution_count": 26,
      "outputs": [
        {
          "output_type": "stream",
          "name": "stdout",
          "text": [
            "Please enter an additional symptom, or 'no' if you have no more: no\n",
            "Chatbot: I understand you have headache, fever.\n",
            "\n",
            "Based on your symptoms, the most likely possibilities are:\n",
            "- common cold (2 matching symptom(s))\n",
            "    * Rest, stay hydrated, and consider over-the-counter medications for symptom relief.\n",
            "- flu (2 matching symptom(s))\n",
            "    * Rest, stay hydrated, and consider over-the-counter medications for symptom relief.\n",
            "- migraine (1 matching symptom(s))\n",
            "    * Rest in a quiet, dark room. Apply a cold compress to your forehead. Consider over-the-counter pain relievers.\n",
            "- tension headache (1 matching symptom(s))\n",
            "    * Apply a warm compress to your neck and shoulders. Practice stress management techniques. Consider over-the-counter pain relievers.\n",
            "- sinusitis (1 matching symptom(s))\n",
            "    * Use a humidifier or saline nasal spray. Consider over-the-counter pain relievers and decongestants.\n",
            "- infection (1 matching symptom(s))\n",
            "    * Consult a doctor for diagnosis and appropriate treatment, which may include antibiotics.\n",
            "- strep throat (1 matching symptom(s))\n",
            "    * Consult a doctor for diagnosis and appropriate treatment, which usually involves antibiotics.\n",
            "Remember, I am just a chatbot and cannot provide definitive medical advice. Please consult a doctor for proper diagnosis and treatment.\n"
          ]
        }
      ]
    },
    {
      "cell_type": "markdown",
      "source": [
        "**End of project and areas for improvement**\n",
        "\n",
        "\n",
        "Extract symptoms from user input using spaCy.\n",
        "Analyze symptoms to identify potential medical conditions.\n",
        "Provide basic recommendations and advice.\n",
        "Engage in a multi-turn conversation.\n",
        "However, as with any real-world project, there's always room for improvement. Here are some areas you could explore to enhance your chatbot:\n",
        "\n",
        "More sophisticated diagnostic logic: Consider implementing more advanced techniques like weighted symptoms, symptom combinations, or decision trees to improve the accuracy of the diagnosis.\n",
        "For example, you could assign higher weights to more severe symptoms or create rules to identify specific combinations of symptoms that indicate particular conditions.\n",
        "Contextual awareness: Enhance the chatbot's ability to understand and utilize the context of the conversation to provide more relevant responses.\n",
        "\n",
        "User-specific information: Incorporate user details like age, gender, and medical history to personalize the diagnosis and recommendations. For example, you could avoid suggesting \"menstrual cramps\" as a possible condition for a male user.\n",
        "\n",
        "Error handling: Improve the chatbot's robustness by adding more comprehensive error handling for various scenarios, such as invalid input or missing data.\n",
        "External knowledge bases: Explore integrating more extensive medical knowledge bases or ontologies to provide a wider range of diagnoses and more detailed information.\n",
        "\n",
        "Ethical considerations: Continue to refine the chatbot's responses to ensure they are responsible, ethical, and prioritize the user's well-being. Always emphasize the importance of consulting a medical professional for accurate diagnosis and treatment.\n",
        "\n",
        "By exploring these areas for improvement, you can further develop your chatbot into a more sophisticated, reliable, and helpful tool for preliminary medical diagnosis."
      ],
      "metadata": {
        "id": "0mf68ySm7saI"
      }
    }
  ]
}